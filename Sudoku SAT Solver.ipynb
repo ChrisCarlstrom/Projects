{
  "cells": [
    {
      "cell_type": "markdown",
      "metadata": {
        "id": "JfAy55kq2FTi"
      },
      "source": [
        "Before you turn this problem in, make sure everything runs as expected. First, **restart the kernel** (in the menubar, select Kernel$\\rightarrow$Restart) and then **run all cells** (in the menubar, select Cell$\\rightarrow$Run All).\n",
        "\n",
        "Make sure you fill in any place that says `YOUR CODE HERE` or \"YOUR ANSWER HERE\", as well as your name and collaborators below:"
      ]
    },
    {
      "cell_type": "code",
      "execution_count": 1,
      "metadata": {
        "id": "_Hn2xRwE2FTk"
      },
      "outputs": [],
      "source": [
        "NAME = \"Chris Carlstrom\"\n",
        "COLLABORATORS = \"\""
      ]
    },
    {
      "cell_type": "markdown",
      "metadata": {
        "id": "oPQSKN_N2FTl"
      },
      "source": [
        "---"
      ]
    },
    {
      "cell_type": "markdown",
      "metadata": {
        "deletable": false,
        "editable": false,
        "nbgrader": {
          "grade": false,
          "grade_id": "cell-94263b50821e127f",
          "locked": true,
          "schema_version": 3,
          "solution": false
        },
        "id": "XEX1hnPi2FTm"
      },
      "source": [
        "# CSE 30 Winter 2022 - Homework 16\n",
        "\n",
        "Copyright Luca de Alfaro, 2020.  License: [CC-BY-NC-ND](https://creativecommons.org/licenses/by-nc-nd/4.0/).\n",
        "\n",
        "\n",
        "### Instructions\n",
        "\n",
        "Please disregard the YOUR NAME and COLLABORATORS above.  They are put there atomatically by the grading tool.\n",
        "You can find instructions on how to work on a homework on Canvas.  Here is a short summary: \n",
        "\n",
        "### Submitting your work\n",
        "\n",
        "To submit your work: \n",
        "\n",
        "* First, click on \"Runtime > Restart and run all\", and check that you get no errors.  This enables you to catch any error you might have introduced, and not noticed, due to your running cells out of order. \n",
        "* Second, download the notebook in .ipynb format (File > Download .ipynb) and upload the .ipynb file to [this form](https://docs.google.com/forms/d/e/1FAIpQLSc8Mdao4KHmzgnVO4UHmS-pnyjuDKDkwusAcJZxbIPmn8vlEA/viewform?usp=sf_link).  This homework is due at **11:59pm on Friday, 11 March 2022**.\n",
        "\n",
        "You can submit multiple times; the last submission before the deadline is the one that counts.\n",
        "\n",
        "### Homework format\n",
        "\n",
        "For each question in this notebook, there is: \n",
        "\n",
        "* A text description of the problem. \n",
        "* One or more places where you have to insert your solution.  You need to complete every place marked: \n",
        "\n",
        "    `# YOUR CODE HERE`\n",
        "    \n",
        "    and you should not modify any other place. \n",
        "* One or more test cells.  Each cell is worth some number of points, marked at the top.  You should not modify these tests cells.  The tests pass if no error is printed out: when there is a statement that says, for instance: \n",
        "\n",
        "    `assert x == 2`\n",
        "    \n",
        "    then the test passes if `x` has value 2, and fails otherwise.  You can insert a `print(x)` (for this case!) somewhere if you want to debug your work; it is up to you.  \n",
        "    \n",
        "### Notes:\n",
        "\n",
        "* Your code will be tested both according to the tests you can see (the `assert` statements you can see), _and_ additional tests.  This prevents you from hard-coding the answer to the particular questions posed.  Your code should solve the _general_ intended case, not hard-code the particular answer for the values used in the tests. \n",
        "\n",
        "* **Please do not delete or add cells!** The test is autograded, and if you modify the test by adding or deleting cells, even if you re-add cells you delete, you may not receive credit. \n",
        "\n",
        "* **Please do not import modules that are not part of the [standard library](https://docs.python.org/3/library/index.html).** You do not need any, and they will likely not available in the grading environment, leading your code to fail. \n",
        "\n",
        "* **If you are inactive too long, your notebook might get disconnected from the back-end.** Your work is never lost, but you have to re-run all the cells before you continue. \n",
        "\n",
        "* You can write out print statements in your code, to help you test/debug it. But remember: the code is graded on the basis of what it outputs or returns, not on the basis of what it prints.\n",
        "\n",
        "* **TAs and tutors have access to this notebook,** so if you let them know you need their help, they can look at your work and give you advice. \n",
        "\n",
        "### Grading\n",
        "\n",
        "Each cell where there are tests is worth a certain number of points.  You get the points allocated to a cell only if you pass _all_ the tests in the cell. \n",
        "\n",
        "The tests in a cell include both the tests you can see, and other, similar, tests that are used for grading only.  Therefore, you cannot hard-code the solutions: you really have to solve the essence of the problem, to receive the points in a cell. \n",
        "\n",
        "### Code of Conduct\n",
        "\n",
        "* Work on the test yourself, alone. \n",
        "* You can search documentation on the web, on sites such as the Python documentation sites, Stackoverflow, and similar, and you can use the results. \n",
        "* You cannot share your work with others or solicit their help."
      ]
    },
    {
      "cell_type": "markdown",
      "metadata": {
        "deletable": false,
        "editable": false,
        "nbgrader": {
          "grade": false,
          "grade_id": "cell-34d3e7c253e0c37e",
          "locked": true,
          "schema_version": 3,
          "solution": false
        },
        "id": "QrHZEBA62FTn"
      },
      "source": [
        "----\n",
        "\n",
        "## From Sudoku to SAT\n",
        "\n",
        "Sudoku is a search problem.  SAT is a prototypical search problem, and more precisely, SAT is perhaps the most basic of the _NP-Complete_ problems: the problems where, if you could only _guess_ the solution, you could _verify_ that it is truly a solution in time that is polynomial in the size of the problem (in case of SAT, the sum of the length of all the clauses). \n",
        "\n",
        "This opens the question: can we solve Sudoku, rather than by writing a special-purpose Sudoku solver, by translating the Sudoku problem to SAT, and using an off-the-shelf SAT solver?  There is a lot of research that went into developing efficient SAT solvers: would it be more efficient to use a custom solver, as we did, or to translate and rely on an off-the-shelf SAT solver?  Let's experiment. "
      ]
    },
    {
      "cell_type": "markdown",
      "metadata": {
        "deletable": false,
        "editable": false,
        "nbgrader": {
          "grade": false,
          "grade_id": "cell-15eefbe643b16ee5",
          "locked": true,
          "schema_version": 3,
          "solution": false
        },
        "id": "vgNvfLgl2FTn"
      },
      "source": [
        "### Installing a SAT solver library"
      ]
    },
    {
      "cell_type": "markdown",
      "metadata": {
        "deletable": false,
        "editable": false,
        "nbgrader": {
          "grade": false,
          "grade_id": "cell-e15cc35a1c77b80d",
          "locked": true,
          "schema_version": 3,
          "solution": false
        },
        "id": "AddqP6B-2FTo"
      },
      "source": [
        "Let us install our library for SAT solvers.  Here is a link to the [pysat](https://pysathq.github.io/usage.html) documentation. "
      ]
    },
    {
      "cell_type": "code",
      "execution_count": 2,
      "metadata": {
        "deletable": false,
        "editable": false,
        "nbgrader": {
          "grade": false,
          "grade_id": "cell-aff8b789d9842c4d",
          "locked": true,
          "schema_version": 3,
          "solution": false
        },
        "id": "5BK58aAt2FTo",
        "colab": {
          "base_uri": "https://localhost:8080/"
        },
        "outputId": "074e0142-3e93-46d1-d8d6-00fa5e1de279"
      },
      "outputs": [
        {
          "output_type": "stream",
          "name": "stdout",
          "text": [
            "Looking in indexes: https://pypi.org/simple, https://us-python.pkg.dev/colab-wheels/public/simple/\n",
            "Collecting python-sat\n",
            "  Downloading python_sat-0.1.8.dev3-cp310-cp310-manylinux_2_12_x86_64.manylinux2010_x86_64.whl (2.1 MB)\n",
            "\u001b[2K     \u001b[90m━━━━━━━━━━━━━━━━━━━━━━━━━━━━━━━━━━━━━━━━\u001b[0m \u001b[32m2.1/2.1 MB\u001b[0m \u001b[31m16.0 MB/s\u001b[0m eta \u001b[36m0:00:00\u001b[0m\n",
            "\u001b[?25hRequirement already satisfied: six in /usr/local/lib/python3.10/dist-packages (from python-sat) (1.16.0)\n",
            "Installing collected packages: python-sat\n",
            "Successfully installed python-sat-0.1.8.dev3\n"
          ]
        }
      ],
      "source": [
        "try:\n",
        "    import pysat\n",
        "except:\n",
        "    !pip install python-sat\n",
        "    import pysat\n"
      ]
    },
    {
      "cell_type": "markdown",
      "metadata": {
        "deletable": false,
        "editable": false,
        "nbgrader": {
          "grade": false,
          "grade_id": "cell-53ebf65bd5c63d98",
          "locked": true,
          "schema_version": 3,
          "solution": false
        },
        "id": "u_aNt8pf2FTp"
      },
      "source": [
        "Let us check that our solver works.  The Glucose solver is one of the solvers. "
      ]
    },
    {
      "cell_type": "code",
      "execution_count": 3,
      "metadata": {
        "deletable": false,
        "editable": false,
        "nbgrader": {
          "grade": false,
          "grade_id": "cell-5969e2b9880c9cde",
          "locked": true,
          "schema_version": 3,
          "solution": false
        },
        "colab": {
          "base_uri": "https://localhost:8080/"
        },
        "id": "ohd2lDD-2FTp",
        "outputId": "10a3d013-52a7-4668-b152-5c7bf34104d7"
      },
      "outputs": [
        {
          "output_type": "stream",
          "name": "stdout",
          "text": [
            "True\n",
            "[-1, -2, -3]\n"
          ]
        }
      ],
      "source": [
        "from pysat.solvers import Glucose3\n",
        "g = Glucose3()\n",
        "g.add_clause([-1, 2])\n",
        "g.add_clause([-2, 3])\n",
        "print(g.solve())\n",
        "print(g.get_model())\n",
        "g.delete()\n"
      ]
    },
    {
      "cell_type": "markdown",
      "metadata": {
        "deletable": false,
        "editable": false,
        "nbgrader": {
          "grade": false,
          "grade_id": "cell-f27b373a697746e6",
          "locked": true,
          "schema_version": 3,
          "solution": false
        },
        "id": "X2kq3lg42FTp"
      },
      "source": [
        "Rather than deleting the solver after use with `g.delete()`, it is better to use the solver within a `with` clause: this avoids the problem of forgetting to delete the solver after use. "
      ]
    },
    {
      "cell_type": "code",
      "execution_count": 4,
      "metadata": {
        "deletable": false,
        "editable": false,
        "nbgrader": {
          "grade": false,
          "grade_id": "cell-4aaece271e6a53c2",
          "locked": true,
          "schema_version": 3,
          "solution": false
        },
        "colab": {
          "base_uri": "https://localhost:8080/"
        },
        "id": "pbyoX08t2FTq",
        "outputId": "fb97cabb-6091-49a3-ffaf-4265f85ccb6b"
      },
      "outputs": [
        {
          "output_type": "stream",
          "name": "stdout",
          "text": [
            "True\n",
            "[-1, -2, -3]\n"
          ]
        }
      ],
      "source": [
        "with Glucose3() as g:\n",
        "    g.add_clause([-1, 2])\n",
        "    g.add_clause([-2, 3])\n",
        "    print(g.solve())\n",
        "    print(g.get_model())\n"
      ]
    },
    {
      "cell_type": "markdown",
      "metadata": {
        "deletable": false,
        "editable": false,
        "nbgrader": {
          "grade": false,
          "grade_id": "cell-6527f161d077599b",
          "locked": true,
          "schema_version": 3,
          "solution": false
        },
        "id": "VLFVBulE2FTq"
      },
      "source": [
        "There are also Glucose4, and Minisat22.  They all work in the same way. "
      ]
    },
    {
      "cell_type": "code",
      "execution_count": 5,
      "metadata": {
        "deletable": false,
        "editable": false,
        "nbgrader": {
          "grade": false,
          "grade_id": "cell-2a74bff834cc9d4d",
          "locked": true,
          "schema_version": 3,
          "solution": false
        },
        "colab": {
          "base_uri": "https://localhost:8080/"
        },
        "id": "D1gF8MRp2FTq",
        "outputId": "ed1466a6-8b7d-4b9c-c679-c5da2cfb7e3a"
      },
      "outputs": [
        {
          "output_type": "stream",
          "name": "stdout",
          "text": [
            "True\n",
            "[-1, -2, -3]\n"
          ]
        }
      ],
      "source": [
        "from pysat.solvers import Glucose4, Minisat22\n",
        "with Minisat22() as g:\n",
        "    g.add_clause([-1, 2])\n",
        "    g.add_clause([-2, 3])\n",
        "    print(g.solve())\n",
        "    print(g.get_model())\n"
      ]
    },
    {
      "cell_type": "markdown",
      "metadata": {
        "deletable": false,
        "editable": false,
        "nbgrader": {
          "grade": false,
          "grade_id": "cell-ebd0a7b432694762",
          "locked": true,
          "schema_version": 3,
          "solution": false
        },
        "id": "AwRFZYKi2FTq"
      },
      "source": [
        "## A `SudokuViaSAT` class. \n",
        "\n",
        "The first thing we do is to write a Sudoku class that can represent a Sudoku problem to be solved.  Unlike our previosu representation, each cell here will contain either a digit 1..9, or 0, where 0 represents an unknown digit. \n",
        "We do not need to represent our solver's state of knowledge in terms of sets of digits, since the seach for a solution will be done in the SAT solver. \n",
        "\n",
        "The class has three methods, which we will fill in later: one for translating the Sudoku into a SAT instance, one for solving the SAT instance, and another one for using the solution to the SAT instance to fill in the unspecified cells of the Sudoku problem. \n",
        "\n",
        "Contrary to the previous approach, we keep the state of the board as a numpy array, of size 9 x 9; this will make indexing in the array a little bit more pleasant. \n",
        "The reason we could not use this representation earlier is that we wanted to associate with each cell a _set_ of digits, and sets are not pleasant to represent in Numpy; single digits are. "
      ]
    },
    {
      "cell_type": "code",
      "execution_count": 6,
      "metadata": {
        "deletable": false,
        "nbgrader": {
          "grade": false,
          "grade_id": "cell-544f7f15c1b64ec2",
          "locked": false,
          "schema_version": 3,
          "solution": true
        },
        "id": "SiYvqoh82FTr"
      },
      "outputs": [],
      "source": [
        "import numpy as np\n",
        "\n",
        "class SudokuViaSAT(object):\n",
        "\n",
        "    def __init__(self, sudoku_string):\n",
        "        \"\"\"\n",
        "        @param sudoku_string: an 81-long digit string: 0 represents an unknown\n",
        "            digit, and 1..9 represent the respective digit.\n",
        "        \"\"\"\n",
        "        assert len(sudoku_string) > 80\n",
        "        self.board = np.zeros((9, 9), dtype=np.uint8)\n",
        "        for i in range(9):\n",
        "            for j in range(9):\n",
        "                self.board[i, j] = int(sudoku_string[i * 9 + j])\n",
        "        self.sat = None # This will be the SAT instance.\n",
        "        # Perform here any other initialization you think you need.\n",
        "        # YOUR CODE HERE\n",
        "\n",
        "    def show(self):\n",
        "        \"\"\"Prints out the board.\"\"\"\n",
        "        print(\"+---+---+---+\")\n",
        "        for i in range(9):\n",
        "            r = '|'\n",
        "            for j in range(9):\n",
        "                r += \".\" if self.board[i, j] == 0 else str(self.board[i, j])\n",
        "                if (j + 1) % 3 == 0:\n",
        "                    r += \"|\"\n",
        "            print(r)\n",
        "            if (i + 1) % 3 == 0:\n",
        "                print(\"+---+---+---+\")\n"
      ]
    },
    {
      "cell_type": "code",
      "execution_count": 7,
      "metadata": {
        "deletable": false,
        "editable": false,
        "nbgrader": {
          "grade": false,
          "grade_id": "cell-a9381a141dd36a44",
          "locked": true,
          "schema_version": 3,
          "solution": false
        },
        "colab": {
          "base_uri": "https://localhost:8080/"
        },
        "id": "y9lOMGO72FTr",
        "outputId": "0f69d154-f233-4425-98f1-25e91c7dec9f"
      },
      "outputs": [
        {
          "output_type": "stream",
          "name": "stdout",
          "text": [
            "+---+---+---+\n",
            "|...|...|.61|\n",
            "|35.|...|...|\n",
            "|4..|.5.|...|\n",
            "+---+---+---+\n",
            "|.2.|...|8..|\n",
            "|...|6.1|...|\n",
            "|...|7..|...|\n",
            "+---+---+---+\n",
            "|...|.8.|2..|\n",
            "|6..|4..|...|\n",
            "|..7|...|.1.|\n",
            "+---+---+---+\n"
          ]
        }
      ],
      "source": [
        "problem = \"000000061350000000400050000020000800000601000000700000000080200600400000007000010\"\n",
        "sd = SudokuViaSAT(problem)\n",
        "sd.show()\n"
      ]
    },
    {
      "cell_type": "markdown",
      "metadata": {
        "deletable": false,
        "editable": false,
        "nbgrader": {
          "grade": false,
          "grade_id": "cell-abd5fa8c47c1156d",
          "locked": true,
          "schema_version": 3,
          "solution": false
        },
        "id": "ZYUbmo_-2FTr"
      },
      "source": [
        "## Variables\n",
        "\n",
        "We base our trasnslation of Sudoku into SAT on variables $p_{dij}$, where $p_{dij}$ expresses the fact that the digit $d$ appears at coordinates $(i, j)$. \n",
        "Since SAT solvers represent a variable by an integer, we will have that $p_{dij}$ is encoded simply using the integer $dij$ (in decimal notation), and the literal $\\bar{p}_{dij}$ will be encoded as $-dij$. \n",
        "\n",
        "For example, to express that digit 3 appears at coordinates 6, 7, we use the literal 367.  To express the negation of this, $\\bar{p}_{367}$, that is, that digit 3 _does not_ appear at coordinates 6, 7, we use the literal -367. \n",
        "\n",
        "We thus start by writing two helper functions, `encode_variable` and `decode_variable`, that go from $d, i, j$ to the corresponding integer, and vice versa.  \n",
        "We write one of them for you, and we ask you to write the other."
      ]
    },
    {
      "cell_type": "code",
      "execution_count": 8,
      "metadata": {
        "deletable": false,
        "editable": false,
        "nbgrader": {
          "grade": false,
          "grade_id": "cell-c927ed1f885fd6a6",
          "locked": true,
          "schema_version": 3,
          "solution": false
        },
        "id": "NZmpICAI2FTr"
      },
      "outputs": [],
      "source": [
        "def encode_variable(d, i, j):\n",
        "    \"\"\"This function creates the variable (the integer) representing the\n",
        "    fact that digit d appears in position i, j.\n",
        "    Of course, to obtain the complement variable, you can just negate\n",
        "    (take the negative) of the returned integer.\n",
        "    Note that it must be: 1 <= d <= 9, 0 <= i <= 8, 0 <= j <= 8.\"\"\"\n",
        "    assert 1 <= d <= 9\n",
        "    assert 0 <= i < 9\n",
        "    assert 0 <= j < 9\n",
        "    # The int() below seems useless, but it is not.  If d is a numpy.uint8,\n",
        "    # as an element of the board is, this int() ensures that the generated\n",
        "    # literal is a normal Python integer, as the SAT solvers expect.\n",
        "    return int(d * 100 + i * 10 + j)\n"
      ]
    },
    {
      "cell_type": "code",
      "execution_count": 9,
      "metadata": {
        "deletable": false,
        "editable": false,
        "nbgrader": {
          "grade": false,
          "grade_id": "cell-64dcab3ae185dcff",
          "locked": true,
          "schema_version": 3,
          "solution": false
        },
        "id": "3e8hAnJE2FTs"
      },
      "outputs": [],
      "source": [
        "# Let's define a testing helper.\n",
        "\n",
        "def check_equal(x, y, msg=None):\n",
        "    if x != y:\n",
        "        if msg is None:\n",
        "            print(\"Error:\")\n",
        "        else:\n",
        "            print(\"Error in\", msg, \":\")\n",
        "        print(\"    Your answer was:\", x)\n",
        "        print(\"    Correct answer: \", y)\n",
        "    assert x == y, \"%r and %r are different\" % (x, y)\n"
      ]
    },
    {
      "cell_type": "code",
      "execution_count": 10,
      "metadata": {
        "deletable": false,
        "editable": false,
        "nbgrader": {
          "grade": false,
          "grade_id": "cell-ae889d901ccfc5aa",
          "locked": true,
          "schema_version": 3,
          "solution": false
        },
        "id": "CfYPB9gI2FTs"
      },
      "outputs": [],
      "source": [
        "check_equal(encode_variable(3, 6, 7), 367)\n"
      ]
    },
    {
      "cell_type": "markdown",
      "metadata": {
        "deletable": false,
        "editable": false,
        "nbgrader": {
          "grade": false,
          "grade_id": "cell-ffa2eb9646c2a7fa",
          "locked": true,
          "schema_version": 3,
          "solution": false
        },
        "id": "PAM46np42FTs"
      },
      "source": [
        "It's your turn now to write a function `decode_variable` that is the opposite of `encode_variable`. "
      ]
    },
    {
      "cell_type": "code",
      "execution_count": 11,
      "metadata": {
        "deletable": false,
        "nbgrader": {
          "grade": false,
          "grade_id": "cell-549959a68f2b85d4",
          "locked": false,
          "schema_version": 3,
          "solution": true
        },
        "id": "DbZUe0IN2FTs"
      },
      "outputs": [],
      "source": [
        "def decode_variable(p):\n",
        "    \"\"\"Given an integer constructed as by _create_prediate above,\n",
        "    returns the tuple (d, i, j), where d is the digit, and i, j are\n",
        "    the cells where the digit is.  Returns None if the integer is out of\n",
        "    range.\n",
        "    Note that it must be: 1 <= d <= 9, 0 <= i <= 8, 0 <= j <= 8.\n",
        "    If this does not hold, return None.\n",
        "    Also return None if p is not in the range from 100, to 988 (the\n",
        "    highest and lowest values that p can assume).\n",
        "    Hint: modulo arithmetic via %, // is useful here!\"\"\"\n",
        "    # YOUR CODE HERE\n",
        "    if p not in range(100, 989):\n",
        "      return None\n",
        "    tem = p % 100\n",
        "    d = (p - tem) / 100\n",
        "    tem2 = tem % 10\n",
        "    i = (tem - tem2) / 10\n",
        "    j = tem2 \n",
        "    return tuple([int(d),int(i),int(j)])\n",
        "    \n",
        "\n",
        "\n",
        "\n"
      ]
    },
    {
      "cell_type": "markdown",
      "metadata": {
        "deletable": false,
        "editable": false,
        "nbgrader": {
          "grade": false,
          "grade_id": "cell-fe38e522d03ccb0c",
          "locked": true,
          "schema_version": 3,
          "solution": false
        },
        "id": "E61vz3uX2FTs"
      },
      "source": [
        "Let's test this. \n",
        "\n"
      ]
    },
    {
      "cell_type": "code",
      "execution_count": 12,
      "metadata": {
        "deletable": false,
        "editable": false,
        "nbgrader": {
          "grade": true,
          "grade_id": "cell-de5ad0dc9c87ce81",
          "locked": true,
          "points": 10,
          "schema_version": 3,
          "solution": false
        },
        "id": "wAhssy3I2FTt"
      },
      "outputs": [],
      "source": [
        "for d in range(1, 10):\n",
        "    for i in range(9):\n",
        "        for j in range(9):\n",
        "            r = decode_variable(encode_variable(d, i, j))\n",
        "            check_equal((d, i, j), r)\n",
        "\n"
      ]
    },
    {
      "cell_type": "markdown",
      "metadata": {
        "deletable": false,
        "editable": false,
        "nbgrader": {
          "grade": false,
          "grade_id": "cell-cbecc904d5c47d2c",
          "locked": true,
          "schema_version": 3,
          "solution": false
        },
        "id": "buIsSlyK2FTt"
      },
      "source": [
        "## Creating the clauses that represent a generic Sudoku problem\n",
        "\n",
        "The key to translating Sudoku to SAT consists in producing a list of clauses that encodes the rules of Sudoku.  We will create list of clauses expressing the following. \n",
        "Below, we have $1 \\leq d \\leq 9$, and $0 \\leq i, j \\leq 8$. \n",
        "\n",
        "1. At each cell $i, j$ at least one digit $d$ must appear.\n",
        "2. At each cell $i, j$, at most one digit $d$ must appear. \n",
        "* If a digit $d$ appears at cell $i, j$, the same digit $d$ will not appear elsewhere on: \n",
        "    3. The same column. \n",
        "    4. The same row. \n",
        "    5. The same 3x3 Sudoku block. \n",
        "\n",
        "Note that conditions 1 and 2 are obvious to a human, and were encoded implicitly in our Sudoku solver.  Our SAT solver, however, has no idea of what a variable like $p_{367}$ means, or that digit 3 appears in cell 6, 7; therefore, we must teach it that exactly one digit apppears in each cell, via clauses. \n",
        "\n",
        "As an example, you can say that at at least one digit appears in cell 6, 7 via the clause: \n",
        "\n",
        "$$\n",
        "[p_{167}, p_{267}, \\ldots, p_{967}]\n",
        "$$\n",
        "\n",
        "and you can say that if 2 appears in cell 67, then 3 does not apper in that same cell, via: \n",
        "\n",
        "$$\n",
        "[\\bar{p}_{267}, \\bar{p}_{367}] \\; . \n",
        "$$\n",
        "\n",
        "In literals ready for SAT, the latter is [-267, -367]. \n",
        "Similarly, to say that if a 2 appears at 6, 7, it does not appear on the same row at 6, 8, you would use the clause [-267, -268]. \n",
        "\n",
        "You will be creating these list of clauses below, for the cases 1, 2, 3, 4, 5 above. "
      ]
    },
    {
      "cell_type": "markdown",
      "metadata": {
        "deletable": false,
        "editable": false,
        "nbgrader": {
          "grade": false,
          "grade_id": "cell-ca2dd717c732e45f",
          "locked": true,
          "schema_version": 3,
          "solution": false
        },
        "id": "SFKHhL4-2FTt"
      },
      "source": [
        "### 1. Cells contain at least one digit\n",
        "\n",
        "For each cell $i, j$, you have to create a clause stating that at least one $p_{dij}$ is true, for some $d$.  You can easily build it as the disjunction $p_{1ij} \\vee p_{2ij} \\vee \\cdots \\vee p_{9ij}$, corresponding to the clause:  \n",
        "\n",
        "$$\n",
        "[p_{1ij}, p_{2ij}, \\ldots, p_{9ij}] \\; . \n",
        "$$\n",
        "\n",
        "Of course, to generate the clause for the SAT solver, you have to encode the variables $p_{1ij}, p_{2ij}, \\ldots, p_{9ij}$ using `encode_variable`."
      ]
    },
    {
      "cell_type": "code",
      "execution_count": 13,
      "metadata": {
        "deletable": false,
        "nbgrader": {
          "grade": false,
          "grade_id": "cell-62e8e10c5f6ad251",
          "locked": false,
          "schema_version": 3,
          "solution": true
        },
        "id": "KzHl_Q-t2FTt"
      },
      "outputs": [],
      "source": [
        "def every_cell_contains_at_least_one_digit():\n",
        "    \"\"\"Returns a list of clauses, stating that every cell must contain\n",
        "    at least one digit.\"\"\"\n",
        "    # YOUR CODE HERE\n",
        "    out = []\n",
        "    for i in range(9):\n",
        "      for j in range(9):\n",
        "        parts = []\n",
        "        for d in range(1, 10): \n",
        "          tem = encode_variable(d, i, j)\n",
        "          parts.append(tem)\n",
        "        out.append(parts)\n",
        "    return out\n",
        "\n"
      ]
    },
    {
      "cell_type": "markdown",
      "metadata": {
        "deletable": false,
        "editable": false,
        "nbgrader": {
          "grade": false,
          "grade_id": "cell-2f81606473f887ea",
          "locked": true,
          "schema_version": 3,
          "solution": false
        },
        "id": "7_Ar4hKE2FTt"
      },
      "source": [
        "We test it with help of a SAT solver. "
      ]
    },
    {
      "cell_type": "code",
      "execution_count": 14,
      "metadata": {
        "deletable": false,
        "editable": false,
        "nbgrader": {
          "grade": true,
          "grade_id": "cell-c33be26c623c5807",
          "locked": true,
          "points": 10,
          "schema_version": 3,
          "solution": false
        },
        "id": "FxF7-LZ02FTt"
      },
      "outputs": [],
      "source": [
        "def prepare(g):\n",
        "    for c in every_cell_contains_at_least_one_digit():\n",
        "        g.add_clause(c)\n",
        "\n",
        "with Glucose3() as g:\n",
        "    prepare(g)\n",
        "    # This can be solved.\n",
        "    check_equal(g.solve(), True)\n",
        "    for d in range(1, 10):\n",
        "        # These clauses state that no digit appears at 4, 5.\n",
        "        # You can change the coordinates if you like.\n",
        "        g.add_clause([-encode_variable(d, 4, 5)])\n",
        "    check_equal(g.solve(), False)\n",
        "\n"
      ]
    },
    {
      "cell_type": "markdown",
      "metadata": {
        "deletable": false,
        "editable": false,
        "nbgrader": {
          "grade": false,
          "grade_id": "cell-f49a6c58fad3212b",
          "locked": true,
          "schema_version": 3,
          "solution": false
        },
        "id": "msNTV5vK2FTu"
      },
      "source": [
        "### 2. Cells contain at most one digit\n",
        "\n",
        "Next, we need to express the fact that each cell can contain at most one digit $d$. \n",
        "The idea is to write clauses that say that if a cell $i,j$ contains a digit $d$, it does not contain a different digit $d'$. \n",
        "This is expressed by $p_{dij} \\rightarrow \\bar{p}_{d'ij}$ for all $0 \\leq i, j \\leq 8$ and all $1 \\leq d, d' \\leq 9$ with $d \\neq d'$.  In turn, the implication $p_{dij} \\rightarrow \\bar{p}_{d'ij}$ can be expressed as the clause \n",
        "\n",
        "$$\n",
        "[\\bar{p}_{dij}, \\bar{p}_{d'ij}] \\; , \n",
        "$$\n",
        "\n",
        "for all $0 \\leq i, j \\leq 8$ and all $1 \\leq d, d' \\leq 9$ with $d \\neq d'$. \n",
        "The clause says that either $d$ is not at $i,j$, or $d'$ is not at $i,j$: this ensures that $d, d'$ are not both at $i, j$.\n"
      ]
    },
    {
      "cell_type": "code",
      "execution_count": 15,
      "metadata": {
        "deletable": false,
        "nbgrader": {
          "grade": false,
          "grade_id": "cell-4bbe3f0626ade2c8",
          "locked": false,
          "schema_version": 3,
          "solution": true
        },
        "id": "mzd4uQVd2FTu"
      },
      "outputs": [],
      "source": [
        "def every_cell_contains_at_most_one_digit():\n",
        "    \"\"\"Returns a list of clauses, stating that every cell contains\n",
        "    at most one digit.\"\"\"\n",
        "    # YOUR CODE HERE\n",
        "    out = []\n",
        "    for i in range(9):\n",
        "      for j in range(9):\n",
        "        for d in range(1, 10):\n",
        "          tem = encode_variable(d, i, j)\n",
        "          for x in range(1, 10):\n",
        "            y = encode_variable(x, i, j)\n",
        "            if d != x:\n",
        "              out.append([-tem, -y])\n",
        "    return out"
      ]
    },
    {
      "cell_type": "markdown",
      "metadata": {
        "deletable": false,
        "editable": false,
        "nbgrader": {
          "grade": false,
          "grade_id": "cell-d77875fbba9b7086",
          "locked": true,
          "schema_version": 3,
          "solution": false
        },
        "id": "amRHYmp62FTu"
      },
      "source": [
        "We test this again with the help of a SAT solver. "
      ]
    },
    {
      "cell_type": "code",
      "execution_count": 16,
      "metadata": {
        "deletable": false,
        "editable": false,
        "nbgrader": {
          "grade": true,
          "grade_id": "cell-a71eb0e7a8e11a4e",
          "locked": true,
          "points": 10,
          "schema_version": 3,
          "solution": false
        },
        "id": "8oqWjGq62FTu"
      },
      "outputs": [],
      "source": [
        "def prepare(g):\n",
        "    for c in every_cell_contains_at_most_one_digit():\n",
        "        g.add_clause(c)\n",
        "\n",
        "with Glucose3() as g:\n",
        "    prepare(g)\n",
        "    check_equal(g.solve(), True)\n",
        "    # This states that both 3 and 4 appear at position 6, 7.\n",
        "    g.add_clause([encode_variable(3, 6, 7)])\n",
        "    g.add_clause([encode_variable(4, 6, 7)])\n",
        "    check_equal(g.solve(), False)\n",
        "\n"
      ]
    },
    {
      "cell_type": "markdown",
      "metadata": {
        "deletable": false,
        "editable": false,
        "nbgrader": {
          "grade": false,
          "grade_id": "cell-bf61e1a5f04a86fc",
          "locked": true,
          "schema_version": 3,
          "solution": false
        },
        "id": "MHV-gZiP2FTu"
      },
      "source": [
        "### 3. No identical digits in the same row\n",
        "\n",
        "We now need to experss one of the basic rules of Sudoku: a digit can appear in only one cell along a row. \n",
        "Precisely, for all rows $0 \\leq i \\leq 8$, and all digits $1 \\leq d \\leq 9$, we write \n",
        "\n",
        "$$\n",
        "    p_{dij} \\rightarrow \\bar{p}_{dij'}\n",
        "$$\n",
        "\n",
        "for all $0 \\leq j, j' \\leq 8$ with $j \\neq j'$. \n",
        "These implications stipulate that if digit $d$ is at position $j$ in the row, it cannot also be in position $j'$ with $j' \\neq j$. \n",
        "These implications can be translated into clauses with two literals, exactly as we did in point 2 above. "
      ]
    },
    {
      "cell_type": "code",
      "execution_count": 17,
      "metadata": {
        "deletable": false,
        "nbgrader": {
          "grade": false,
          "grade_id": "cell-3661f594537702c3",
          "locked": false,
          "schema_version": 3,
          "solution": true
        },
        "id": "UaQtQjCa2FTu"
      },
      "outputs": [],
      "source": [
        "def no_identical_digits_in_same_row():\n",
        "    \"\"\"Returns a list of clauses, stating that if a digit appears\n",
        "    in a cell, the same digit cannot appear elsewhere in the\n",
        "    same row, column, or 3x3 square.\"\"\"\n",
        "    # YOUR CODE HERE\n",
        "    out = []\n",
        "    for i in range(9):\n",
        "      for j in range(9):\n",
        "        for d in range(1, 10):\n",
        "          tem = encode_variable(d, i, j)\n",
        "          for jprime in range(9):\n",
        "            if jprime != j:\n",
        "              y = encode_variable(d, i, jprime)\n",
        "              out.append([-tem, -y])\n",
        "    return out\n",
        "\n"
      ]
    },
    {
      "cell_type": "code",
      "execution_count": 18,
      "metadata": {
        "deletable": false,
        "editable": false,
        "nbgrader": {
          "grade": true,
          "grade_id": "cell-2b7a0c6e0260620",
          "locked": true,
          "points": 10,
          "schema_version": 3,
          "solution": false
        },
        "id": "_4E_TsB72FTv"
      },
      "outputs": [],
      "source": [
        "def prepare(g):\n",
        "    for c in no_identical_digits_in_same_row():\n",
        "        g.add_clause(c)\n",
        "\n",
        "with Glucose3() as g:\n",
        "    prepare(g)\n",
        "    check_equal(g.solve(), True)\n",
        "    # This states that 3 appears twice in row 5.\n",
        "    g.add_clause([encode_variable(3, 5, 7)])\n",
        "    g.add_clause([encode_variable(3, 5, 8)])\n",
        "    check_equal(g.solve(), False)\n",
        "\n",
        "# But columns are not forbidden.\n",
        "with Glucose3() as g:\n",
        "    prepare(g)\n",
        "    g.add_clause([encode_variable(3, 5, 7)])\n",
        "    g.add_clause([encode_variable(3, 2, 7)])\n",
        "    check_equal(g.solve(), True)\n",
        "\n"
      ]
    },
    {
      "cell_type": "markdown",
      "metadata": {
        "deletable": false,
        "editable": false,
        "nbgrader": {
          "grade": false,
          "grade_id": "cell-13103cd9330f5938",
          "locked": true,
          "schema_version": 3,
          "solution": false
        },
        "id": "zwTfx35o2FTv"
      },
      "source": [
        "### 4. No identical digits in the same column\n",
        "\n",
        "This is a similar idea to the above, but for columns. "
      ]
    },
    {
      "cell_type": "code",
      "execution_count": 19,
      "metadata": {
        "deletable": false,
        "nbgrader": {
          "grade": false,
          "grade_id": "cell-7d68063ed4ea5cce",
          "locked": false,
          "schema_version": 3,
          "solution": true
        },
        "id": "uq8pC8wY2FTv"
      },
      "outputs": [],
      "source": [
        "def no_identical_digits_in_same_column():\n",
        "    \"\"\"Returns a list of clauses, stating that if a digit appears\n",
        "    in a cell, the same digit cannot appear elsewhere in the\n",
        "    same row, column, or 3x3 square.\"\"\"\n",
        "    # YOUR CODE HERE\n",
        "    out = []\n",
        "    for i in range(9):\n",
        "      for j in range(9):\n",
        "        for d in range(1, 10):\n",
        "          tem = encode_variable(d, i, j)\n",
        "          for iprime in range(9):\n",
        "            if iprime != i:\n",
        "              y = encode_variable(d, iprime, j)\n",
        "              out.append([-tem, -y])\n",
        "    return out\n",
        "\n",
        "\n",
        "\n",
        "\n"
      ]
    },
    {
      "cell_type": "code",
      "execution_count": 20,
      "metadata": {
        "deletable": false,
        "editable": false,
        "nbgrader": {
          "grade": true,
          "grade_id": "cell-45a5de0b8721a2ce",
          "locked": true,
          "points": 10,
          "schema_version": 3,
          "solution": false
        },
        "id": "pJzWfj8a2FTv"
      },
      "outputs": [],
      "source": [
        "def prepare(g):\n",
        "    for c in no_identical_digits_in_same_column():\n",
        "        g.add_clause(c)\n",
        "\n",
        "with Glucose3() as g:\n",
        "    prepare(g)\n",
        "    check_equal(g.solve(), True)\n",
        "    # This states that 3 appears twice in column 7.\n",
        "    g.add_clause([encode_variable(3, 5, 7)])\n",
        "    g.add_clause([encode_variable(3, 2, 7)])\n",
        "    check_equal(g.solve(), False)\n",
        "\n",
        "# But rows are not forbidden.\n",
        "with Glucose3() as g:\n",
        "    prepare(g)\n",
        "    g.add_clause([encode_variable(3, 5, 7)])\n",
        "    g.add_clause([encode_variable(3, 5, 8)])\n",
        "    check_equal(g.solve(), True)\n",
        "\n"
      ]
    },
    {
      "cell_type": "markdown",
      "metadata": {
        "deletable": false,
        "editable": false,
        "nbgrader": {
          "grade": false,
          "grade_id": "cell-9550d4da141adc11",
          "locked": true,
          "schema_version": 3,
          "solution": false
        },
        "id": "a2GbMI212FTv"
      },
      "source": [
        "### 5. No identical digits in the same 3x3 block. \n",
        "\n",
        "The idea here is to state that if a digit $d$ appears at a position $i,j$ in a 3x3 Sudoku block, it does not appear in any other position $i',j'$ in the same 3x3 block, with $i \\neq i'$ or $j \\neq j'$. "
      ]
    },
    {
      "cell_type": "code",
      "execution_count": 21,
      "metadata": {
        "deletable": false,
        "nbgrader": {
          "grade": false,
          "grade_id": "cell-ee5be92ff3738af3",
          "locked": false,
          "schema_version": 3,
          "solution": true
        },
        "id": "ZhOO7RIE2FTv"
      },
      "outputs": [],
      "source": [
        "def no_identical_digits_in_same_block():\n",
        "    \"\"\"Returns a list of clauses, stating that if a digit appears\n",
        "    in a cell, the same digit cannot appear elsewhere in the\n",
        "    same row, column, or 3x3 square.\"\"\"\n",
        "    # YOUR CODE HERE\n",
        "    out = []\n",
        "    for i in range(9):\n",
        "      for j in range(9):\n",
        "        i2 = (i // 3) * 3\n",
        "        j2 = (j // 3) * 3\n",
        "        for d in range(1, 10):\n",
        "          for iprime in range(i2, i2+3):\n",
        "            for jprime in range(j2, j2+3):\n",
        "              if i != iprime or jprime != j:\n",
        "                tem = encode_variable(d, i, j)\n",
        "                y = encode_variable(d, iprime, jprime)\n",
        "                out.append([-tem, -y])\n",
        "    return out\n",
        "        "
      ]
    },
    {
      "cell_type": "code",
      "execution_count": 22,
      "metadata": {
        "deletable": false,
        "editable": false,
        "nbgrader": {
          "grade": true,
          "grade_id": "cell-fb94c1c4bc94f034",
          "locked": true,
          "points": 10,
          "schema_version": 3,
          "solution": false
        },
        "id": "yOOe_q8T2FTv"
      },
      "outputs": [],
      "source": [
        "def prepare(g):\n",
        "    for c in no_identical_digits_in_same_block():\n",
        "        g.add_clause(c)\n",
        "\n",
        "with Glucose3() as g:\n",
        "    prepare(g)\n",
        "    check_equal(g.solve(), True)\n",
        "    # This states that 3 appears twice in top block\n",
        "    g.add_clause([encode_variable(3, 1, 1)])\n",
        "    g.add_clause([encode_variable(3, 1, 2)])\n",
        "    check_equal(g.solve(), False)\n",
        "\n",
        "# One more test.\n",
        "with Glucose3() as g:\n",
        "    prepare(g)\n",
        "    g.add_clause([encode_variable(3, 1, 1)])\n",
        "    g.add_clause([encode_variable(3, 2, 1)])\n",
        "    check_equal(g.solve(), False)\n",
        "\n",
        "# But different blocks are not forbidden.\n",
        "with Glucose3() as g:\n",
        "    prepare(g)\n",
        "    g.add_clause([encode_variable(3, 1, 1)])\n",
        "    g.add_clause([encode_variable(3, 5, 8)])\n",
        "    check_equal(g.solve(), True)\n",
        "\n"
      ]
    },
    {
      "cell_type": "markdown",
      "metadata": {
        "deletable": false,
        "editable": false,
        "nbgrader": {
          "grade": false,
          "grade_id": "cell-2413c1dc3e208024",
          "locked": true,
          "schema_version": 3,
          "solution": false
        },
        "id": "eLqvR0vI2FTw"
      },
      "source": [
        "### Putting it all together: the rules of Sudoku. \n",
        "\n",
        "We put this all together into a function that creates the rules for Sudoku, in SAT notation."
      ]
    },
    {
      "cell_type": "code",
      "execution_count": 23,
      "metadata": {
        "deletable": false,
        "editable": false,
        "nbgrader": {
          "grade": false,
          "grade_id": "cell-e3c70245bb6b5e35",
          "locked": true,
          "schema_version": 3,
          "solution": false
        },
        "id": "rYZbPfn32FTw"
      },
      "outputs": [],
      "source": [
        "def sudoku_rules():\n",
        "    clauses = []\n",
        "    clauses.extend(every_cell_contains_at_least_one_digit())\n",
        "    clauses.extend(every_cell_contains_at_most_one_digit())\n",
        "    clauses.extend(no_identical_digits_in_same_row())\n",
        "    clauses.extend(no_identical_digits_in_same_column())\n",
        "    clauses.extend(no_identical_digits_in_same_block())\n",
        "    return clauses\n"
      ]
    },
    {
      "cell_type": "markdown",
      "metadata": {
        "deletable": false,
        "editable": false,
        "nbgrader": {
          "grade": false,
          "grade_id": "cell-72dc73e4912c5f44",
          "locked": true,
          "schema_version": 3,
          "solution": false
        },
        "id": "RGlKno862FTw"
      },
      "source": [
        "And if we solve this, we have created a Sudoku problem! "
      ]
    },
    {
      "cell_type": "code",
      "execution_count": 24,
      "metadata": {
        "deletable": false,
        "editable": false,
        "nbgrader": {
          "grade": true,
          "grade_id": "cell-8e37658cb1b6d8c2",
          "locked": true,
          "points": 10,
          "schema_version": 3,
          "solution": false
        },
        "id": "uiAkEAh52FTw"
      },
      "outputs": [],
      "source": [
        "with Glucose3() as g:\n",
        "    for c in sudoku_rules():\n",
        "        g.add_clause(c)\n",
        "    check_equal(g.solve(), True)\n",
        "\n"
      ]
    },
    {
      "cell_type": "markdown",
      "metadata": {
        "deletable": false,
        "editable": false,
        "nbgrader": {
          "grade": false,
          "grade_id": "cell-a48d24425ff9ebaa",
          "locked": true,
          "schema_version": 3,
          "solution": false
        },
        "id": "E5ugOj572FTw"
      },
      "source": [
        "If the test above does not pass, comment out some of the lines in the `sudoku_rules` function.  Try to determine which sets of clauses make the Sudoku rules unsolvable. "
      ]
    },
    {
      "cell_type": "markdown",
      "metadata": {
        "deletable": false,
        "editable": false,
        "nbgrader": {
          "grade": false,
          "grade_id": "cell-a58ab448a8c95810",
          "locked": true,
          "schema_version": 3,
          "solution": false
        },
        "id": "edv2W5nh2FTw"
      },
      "source": [
        "### Translating the initial state of the board into clauses\n",
        "\n",
        "We now need to translate the intial state of the board into clauses.  This is easy to do: whenever the board contains a (known) digit $d$ in position $i,j$, you generate a clause\n",
        "\n",
        "$$\n",
        "[p_{dij}]\n",
        "$$\n",
        "\n",
        "stating that $d$ is in position $i,j$.  That's all! \n",
        "We let you do implement this via a method `_board_to_SAT` of `SudokuViaSAT`, which returns the list of such unary clauses. "
      ]
    },
    {
      "cell_type": "code",
      "execution_count": 25,
      "metadata": {
        "deletable": false,
        "nbgrader": {
          "grade": false,
          "grade_id": "cell-7f51ce1d097eae09",
          "locked": false,
          "schema_version": 3,
          "solution": true
        },
        "id": "BKLVEUqy2FTw"
      },
      "outputs": [],
      "source": [
        "def _board_to_SAT(self):\n",
        "    \"\"\"Translates the currently known state of the board into a list of SAT\n",
        "    clauses.  Each clause has only one literal, and expresses the fact that a\n",
        "    given digit is in a given position.  The method returns the list of clauses\n",
        "    corresponding to all the initially known Sudoku digits.\"\"\"\n",
        "    # YOUR CODE HERE\n",
        "    out = []\n",
        "    for i in range(9):\n",
        "      for j in range(9):\n",
        "        if self.board[i][j] != 0:\n",
        "          out.append([encode_variable(self.board[i][j], i, j)])\n",
        "    return out\n",
        "\n",
        "\n",
        "\n",
        "\n",
        "\n",
        "SudokuViaSAT._board_to_SAT = _board_to_SAT\n"
      ]
    },
    {
      "cell_type": "markdown",
      "metadata": {
        "deletable": false,
        "editable": false,
        "nbgrader": {
          "grade": false,
          "grade_id": "cell-6383043fb2d55ac3",
          "locked": true,
          "schema_version": 3,
          "solution": false
        },
        "id": "O553DF_72FTx"
      },
      "source": [
        "Let us test this. "
      ]
    },
    {
      "cell_type": "code",
      "execution_count": 26,
      "metadata": {
        "deletable": false,
        "editable": false,
        "nbgrader": {
          "grade": true,
          "grade_id": "cell-71405cb1905e8231",
          "locked": true,
          "points": 10,
          "schema_version": 3,
          "solution": false
        },
        "id": "EAh-FQ7p2FTx",
        "colab": {
          "base_uri": "https://localhost:8080/"
        },
        "outputId": "76021861-bf0e-438d-8acf-e327b791283c"
      },
      "outputs": [
        {
          "output_type": "stream",
          "name": "stdout",
          "text": [
            "+---+---+---+\n",
            "|...|...|.61|\n",
            "|35.|...|...|\n",
            "|4..|.5.|...|\n",
            "+---+---+---+\n",
            "|.2.|...|8..|\n",
            "|...|6.1|...|\n",
            "|...|7..|...|\n",
            "+---+---+---+\n",
            "|...|.8.|2..|\n",
            "|6..|4..|...|\n",
            "|..7|...|.1.|\n",
            "+---+---+---+\n",
            "[607]\n",
            "[108]\n",
            "[310]\n",
            "[511]\n",
            "[420]\n",
            "[524]\n",
            "[231]\n",
            "[836]\n",
            "[643]\n",
            "[145]\n",
            "[753]\n",
            "[864]\n",
            "[266]\n",
            "[670]\n",
            "[473]\n",
            "[782]\n",
            "[187]\n"
          ]
        }
      ],
      "source": [
        "problem = \"000000061350000000400050000020000800000601000000700000000080200600400000007000010\"\n",
        "sd = SudokuViaSAT(problem)\n",
        "sd.show()\n",
        "clauses = sd._board_to_SAT()\n",
        "check_equal(len(clauses), 17)\n",
        "check_equal([310] in clauses, True)\n",
        "check_equal([511] in clauses, True)\n",
        "check_equal([224] in clauses, False)\n",
        "\n",
        "# This should print the elements of the board.\n",
        "for c in sd._board_to_SAT():\n",
        "    print(c)\n",
        "\n"
      ]
    },
    {
      "cell_type": "markdown",
      "metadata": {
        "deletable": false,
        "editable": false,
        "nbgrader": {
          "grade": false,
          "grade_id": "cell-5fa2c34e6bdb77a5",
          "locked": true,
          "schema_version": 3,
          "solution": false
        },
        "id": "cBxMSvO42FTx"
      },
      "source": [
        "## Translating Sudoku to SAT\n",
        "\n",
        "We now write a `_to_SAT` method for `SudokuViaSAT`, that translates a Sudoku problem into a list of SAT clauses, and returns the list of clauses.  The list contains: \n",
        "\n",
        "* all the clauses returned by the `sudoku_rules` function above, \n",
        "* all the clauses that represent the initial state of the board, returned by the `_board_to_SAT` method.  \n"
      ]
    },
    {
      "cell_type": "code",
      "execution_count": 27,
      "metadata": {
        "deletable": false,
        "editable": false,
        "nbgrader": {
          "grade": false,
          "grade_id": "cell-26255ba183078ac6",
          "locked": true,
          "schema_version": 3,
          "solution": false
        },
        "id": "2CU23JGw2FTx"
      },
      "outputs": [],
      "source": [
        "def _to_SAT(self):\n",
        "    return list(sudoku_rules()) + list(self._board_to_SAT())\n",
        "\n",
        "SudokuViaSAT._to_SAT = _to_SAT\n"
      ]
    },
    {
      "cell_type": "markdown",
      "metadata": {
        "deletable": false,
        "editable": false,
        "nbgrader": {
          "grade": false,
          "grade_id": "cell-725ab817a51ee844",
          "locked": true,
          "schema_version": 3,
          "solution": false
        },
        "id": "jZhogsGT2FTx"
      },
      "source": [
        "Let's try if we can solve an instance of Sudoku via SAT."
      ]
    },
    {
      "cell_type": "code",
      "execution_count": 28,
      "metadata": {
        "deletable": false,
        "editable": false,
        "nbgrader": {
          "grade": true,
          "grade_id": "cell-58993fa9efe00553",
          "locked": true,
          "points": 10,
          "schema_version": 3,
          "solution": false
        },
        "id": "O5AHQldt2FTx"
      },
      "outputs": [],
      "source": [
        "problem = \"000000061350000000400050000020000800000601000000700000000080200600400000007000010\"\n",
        "sd = SudokuViaSAT(problem)\n",
        "with Glucose3() as g:\n",
        "    for c in sd._to_SAT():\n",
        "        g.add_clause(c)\n",
        "    check_equal(g.solve(), True)\n",
        "\n",
        "problem = \"000000061350000000404050000020000800000601000000700000000080200600400000007000010\"\n",
        "sd = SudokuViaSAT(problem)\n",
        "with Glucose3() as g:\n",
        "    for c in sd._to_SAT():\n",
        "        for j in c:\n",
        "            g.add_clause(c)\n",
        "    check_equal(g.solve(), False)\n",
        "\n"
      ]
    },
    {
      "cell_type": "markdown",
      "metadata": {
        "deletable": false,
        "editable": false,
        "nbgrader": {
          "grade": false,
          "grade_id": "cell-fddb8df216f103f2",
          "locked": true,
          "schema_version": 3,
          "solution": false
        },
        "id": "A29ft47L2FTx"
      },
      "source": [
        "Indeed it works! "
      ]
    },
    {
      "cell_type": "markdown",
      "metadata": {
        "deletable": false,
        "editable": false,
        "nbgrader": {
          "grade": false,
          "grade_id": "cell-b4114d2bfa61ab6",
          "locked": true,
          "schema_version": 3,
          "solution": false
        },
        "id": "8BStZldO2FTx"
      },
      "source": [
        "## Writing a `solve` method for Sudoku"
      ]
    },
    {
      "cell_type": "markdown",
      "metadata": {
        "deletable": false,
        "editable": false,
        "nbgrader": {
          "grade": false,
          "grade_id": "cell-9d92f675f3e7a3e9",
          "locked": true,
          "schema_version": 3,
          "solution": false
        },
        "id": "I-eMwfNt2FTy"
      },
      "source": [
        "It is time to put everything together in a `solve` method for `SudokuViaSAT`.  The method works as follows.  It takes as input one of the SAT solver classes, such as `Glucose3`, `Glucose4`, or `Minisat22`.  Then: \n",
        "\n",
        "* It uses the method `_to_SAT` to create the clauses for a SAT instance encoding the Sudoku problem. \n",
        "* It adds those clauses to the SAT solver. \n",
        "* It solves the SAT problem. \n",
        "* If the problem has a solution, it uses the solution of the SAT problem to complete the cell in the Sudoku board. \n",
        "\n",
        "For the last step, we can check that the problem has a solution via `g.solve()`, as in the test cases above. \n",
        "If the problem has a solution, `g.get_model()` gives us a truth assignment satisfying the SAT problem. \n",
        "Let us take a look at it. "
      ]
    },
    {
      "cell_type": "code",
      "execution_count": 29,
      "metadata": {
        "deletable": false,
        "editable": false,
        "nbgrader": {
          "grade": false,
          "grade_id": "cell-aa019e2753b1a70e",
          "locked": true,
          "schema_version": 3,
          "solution": false
        },
        "id": "I_TJzv9z2FTy",
        "colab": {
          "base_uri": "https://localhost:8080/"
        },
        "outputId": "be83b3dd-2d86-4a77-f79a-185dacbfe4ee"
      },
      "outputs": [
        {
          "output_type": "stream",
          "name": "stdout",
          "text": [
            "[-1, -2, -3, -4, -5, -6, -7, -8, -9, -10, -11, -12, -13, -14, -15, -16, -17, -18, -19, -20, -21, -22, -23, -24, -25, -26, -27, -28, -29, -30, -31, -32, -33, -34, -35, -36, -37, -38, -39, -40, -41, -42, -43, -44, -45, -46, -47, -48, -49, -50, -51, -52, -53, -54, -55, -56, -57, -58, -59, -60, -61, -62, -63, -64, -65, -66, -67, -68, -69, -70, -71, -72, -73, -74, -75, -76, -77, -78, -79, -80, -81, -82, -83, -84, -85, -86, -87, -88, -89, -90, -91, -92, -93, -94, -95, -96, -97, -98, -99, -100, -101, -102, -103, -104, -105, -106, -107, 108, -109, -110, -111, 112, -113, -114, -115, -116, -117, -118, -119, -120, -121, -122, 123, -124, -125, -126, -127, -128, -129, 130, -131, -132, -133, -134, -135, -136, -137, -138, -139, -140, -141, -142, -143, -144, 145, -146, -147, -148, -149, -150, -151, -152, -153, -154, -155, 156, -157, -158, -159, -160, 161, -162, -163, -164, -165, -166, -167, -168, -169, -170, -171, -172, -173, 174, -175, -176, -177, -178, -179, -180, -181, -182, -183, -184, -185, -186, 187, -188, -189, -190, -191, -192, -193, -194, -195, -196, -197, -198, -199, 200, -201, -202, -203, -204, -205, -206, -207, -208, -209, -210, -211, -212, -213, -214, -215, -216, 217, -218, -219, -220, -221, -222, -223, -224, 225, -226, -227, -228, -229, -230, 231, -232, -233, -234, -235, -236, -237, -238, -239, -240, -241, -242, -243, 244, -245, -246, -247, -248, -249, -250, -251, -252, -253, -254, -255, -256, -257, 258, -259, -260, -261, -262, -263, -264, -265, 266, -267, -268, -269, -270, -271, 272, -273, -274, -275, -276, -277, -278, -279, -280, -281, -282, 283, -284, -285, -286, -287, -288, -289, -290, -291, -292, -293, -294, -295, -296, -297, -298, -299, -300, -301, -302, 303, -304, -305, -306, -307, -308, -309, 310, -311, -312, -313, -314, -315, -316, -317, -318, -319, -320, -321, -322, -323, -324, -325, -326, -327, 328, -329, -330, -331, -332, -333, -334, 335, -336, -337, -338, -339, -340, 341, -342, -343, -344, -345, -346, -347, -348, -349, -350, -351, -352, -353, -354, -355, -356, 357, -358, -359, -360, -361, 362, -363, -364, -365, -366, -367, -368, -369, -370, -371, -372, -373, -374, -375, 376, -377, -378, -379, -380, -381, -382, -383, 384, -385, -386, -387, -388, -389, -390, -391, -392, -393, -394, -395, -396, -397, -398, -399, -400, -401, -402, -403, -404, 405, -406, -407, -408, -409, -410, -411, -412, -413, -414, -415, -416, -417, 418, -419, 420, -421, -422, -423, -424, -425, -426, -427, -428, -429, -430, -431, 432, -433, -434, -435, -436, -437, -438, -439, -440, -441, -442, -443, -444, -445, 446, -447, -448, -449, -450, -451, -452, -453, 454, -455, -456, -457, -458, -459, -460, -461, -462, -463, -464, -465, -466, 467, -468, -469, -470, -471, -472, 473, -474, -475, -476, -477, -478, -479, -480, 481, -482, -483, -484, -485, -486, -487, -488, -489, -490, -491, -492, -493, -494, -495, -496, -497, -498, -499, -500, -501, -502, -503, -504, -505, 506, -507, -508, -509, -510, 511, -512, -513, -514, -515, -516, -517, -518, -519, -520, -521, -522, -523, 524, -525, -526, -527, -528, -529, -530, -531, -532, 533, -534, -535, -536, -537, -538, -539, -540, -541, -542, -543, -544, -545, -546, -547, 548, -549, -550, -551, 552, -553, -554, -555, -556, -557, -558, -559, 560, -561, -562, -563, -564, -565, -566, -567, -568, -569, -570, -571, -572, -573, -574, -575, -576, 577, -578, -579, -580, -581, -582, -583, -584, 585, -586, -587, -588, -589, -590, -591, -592, -593, -594, -595, -596, -597, -598, -599, -600, -601, -602, -603, -604, -605, -606, 607, -608, -609, -610, -611, -612, -613, 614, -615, -616, -617, -618, -619, -620, -621, 622, -623, -624, -625, -626, -627, -628, -629, -630, -631, -632, -633, -634, -635, -636, -637, 638, -639, -640, -641, -642, 643, -644, -645, -646, -647, -648, -649, -650, 651, -652, -653, -654, -655, -656, -657, -658, -659, -660, -661, -662, -663, -664, 665, -666, -667, -668, -669, 670, -671, -672, -673, -674, -675, -676, -677, -678, -679, -680, -681, -682, -683, -684, -685, 686, -687, -688, -689, -690, -691, -692, -693, -694, -695, -696, -697, -698, -699, -700, -701, -702, -703, 704, -705, -706, -707, -708, -709, -710, -711, -712, -713, -714, -715, 716, -717, -718, -719, -720, 721, -722, -723, -724, -725, -726, -727, -728, -729, -730, -731, -732, -733, -734, -735, -736, 737, -738, -739, 740, -741, -742, -743, -744, -745, -746, -747, -748, -749, -750, -751, -752, 753, -754, -755, -756, -757, -758, -759, -760, -761, -762, -763, -764, -765, -766, -767, 768, -769, -770, -771, -772, -773, -774, 775, -776, -777, -778, -779, -780, -781, 782, -783, -784, -785, -786, -787, -788, -789, -790, -791, -792, -793, -794, -795, -796, -797, -798, -799, -800, 801, -802, -803, -804, -805, -806, -807, -808, -809, -810, -811, -812, 813, -814, -815, -816, -817, -818, -819, -820, -821, -822, -823, -824, -825, -826, 827, -828, -829, -830, -831, -832, -833, -834, -835, 836, -837, -838, -839, -840, -841, 842, -843, -844, -845, -846, -847, -848, -849, -850, -851, -852, -853, -854, 855, -856, -857, -858, -859, -860, -861, -862, -863, 864, -865, -866, -867, -868, -869, -870, -871, -872, -873, -874, -875, -876, -877, 878, -879, 880, -881, -882, -883, -884, -885, -886, -887, -888, -889, -890, -891, -892, -893, -894, -895, -896, -897, -898, -899, -900, -901, 902, -903, -904, -905, -906, -907, -908, -909, -910, -911, -912, -913, -914, 915, -916, -917, -918, -919, -920, -921, -922, -923, -924, -925, 926, -927, -928, -929, -930, -931, -932, -933, 934, -935, -936, -937, -938, -939, -940, -941, -942, -943, -944, -945, -946, 947, -948, -949, 950, -951, -952, -953, -954, -955, -956, -957, -958, -959, -960, -961, -962, 963, -964, -965, -966, -967, -968, -969, -970, 971, -972, -973, -974, -975, -976, -977, -978, -979, -980, -981, -982, -983, -984, -985, -986, -987, 988]\n"
          ]
        }
      ],
      "source": [
        "problem = \"000000061350000000400050000020000800000601000000700000000080200600400000007000010\"\n",
        "sd = SudokuViaSAT(problem)\n",
        "with Glucose3() as g:\n",
        "    for c in sd._to_SAT():\n",
        "        g.add_clause(c)\n",
        "    check_equal(g.solve(), True)\n",
        "    # Let's get a truth assignment.\n",
        "    ps = g.get_model()\n",
        "    print(ps)\n"
      ]
    },
    {
      "cell_type": "markdown",
      "metadata": {
        "deletable": false,
        "editable": false,
        "nbgrader": {
          "grade": false,
          "grade_id": "cell-fdfc49aca721c3c1",
          "locked": true,
          "schema_version": 3,
          "solution": false
        },
        "id": "WSvixxZJ2FTy"
      },
      "source": [
        "This truth assignment contains: \n",
        "\n",
        "* Garbage.  For some odd reason, the SAT solvers want to give us truth assignments also to variables that are not part of any clause, such as 1, 2, 3, ... . \n",
        "* Negative literals, such as -456.  We really don't care to know that 4 cannot appear in cell 5,6. \n",
        "* Positive literals that can be interpreted via `decode_variable` (defined at the beginning).  These we use to completethe board.  For instance, if we get a literal 345 in the model, this means that 3 appears in cell 4, 5, and we can set `self.board[4, 5] = 3`. \n",
        "\n"
      ]
    },
    {
      "cell_type": "markdown",
      "metadata": {
        "deletable": false,
        "editable": false,
        "nbgrader": {
          "grade": false,
          "grade_id": "cell-30d3c4a37fd2ab9c",
          "locked": true,
          "schema_version": 3,
          "solution": false
        },
        "id": "PrfASYT22FTy"
      },
      "source": [
        "Let's take a look at the positive, interpretable literals: "
      ]
    },
    {
      "cell_type": "code",
      "execution_count": 30,
      "metadata": {
        "deletable": false,
        "editable": false,
        "nbgrader": {
          "grade": false,
          "grade_id": "cell-95e4e787b4fc681c",
          "locked": true,
          "schema_version": 3,
          "solution": false
        },
        "id": "I-zsaKqZ2FTy",
        "colab": {
          "base_uri": "https://localhost:8080/"
        },
        "outputId": "1cecaca1-5b6e-4b7f-e097-39853e6d8a80"
      },
      "outputs": [
        {
          "output_type": "stream",
          "name": "stdout",
          "text": [
            "(1, 0, 8)\n",
            "(1, 1, 2)\n",
            "(1, 2, 3)\n",
            "(1, 3, 0)\n",
            "(1, 4, 5)\n",
            "(1, 5, 6)\n",
            "(1, 6, 1)\n",
            "(1, 7, 4)\n",
            "(1, 8, 7)\n",
            "(2, 0, 0)\n",
            "(2, 1, 7)\n",
            "(2, 2, 5)\n",
            "(2, 3, 1)\n",
            "(2, 4, 4)\n",
            "(2, 5, 8)\n",
            "(2, 6, 6)\n",
            "(2, 7, 2)\n",
            "(2, 8, 3)\n",
            "(3, 0, 3)\n",
            "(3, 1, 0)\n",
            "(3, 2, 8)\n",
            "(3, 3, 5)\n",
            "(3, 4, 1)\n",
            "(3, 5, 7)\n",
            "(3, 6, 2)\n",
            "(3, 7, 6)\n",
            "(3, 8, 4)\n",
            "(4, 0, 5)\n",
            "(4, 1, 8)\n",
            "(4, 2, 0)\n",
            "(4, 3, 2)\n",
            "(4, 4, 6)\n",
            "(4, 5, 4)\n",
            "(4, 6, 7)\n",
            "(4, 7, 3)\n",
            "(4, 8, 1)\n",
            "(5, 0, 6)\n",
            "(5, 1, 1)\n",
            "(5, 2, 4)\n",
            "(5, 3, 3)\n",
            "(5, 4, 8)\n",
            "(5, 5, 2)\n",
            "(5, 6, 0)\n",
            "(5, 7, 7)\n",
            "(5, 8, 5)\n",
            "(6, 0, 7)\n",
            "(6, 1, 4)\n",
            "(6, 2, 2)\n",
            "(6, 3, 8)\n",
            "(6, 4, 3)\n",
            "(6, 5, 1)\n",
            "(6, 6, 5)\n",
            "(6, 7, 0)\n",
            "(6, 8, 6)\n",
            "(7, 0, 4)\n",
            "(7, 1, 6)\n",
            "(7, 2, 1)\n",
            "(7, 3, 7)\n",
            "(7, 4, 0)\n",
            "(7, 5, 3)\n",
            "(7, 6, 8)\n",
            "(7, 7, 5)\n",
            "(7, 8, 2)\n",
            "(8, 0, 1)\n",
            "(8, 1, 3)\n",
            "(8, 2, 7)\n",
            "(8, 3, 6)\n",
            "(8, 4, 2)\n",
            "(8, 5, 5)\n",
            "(8, 6, 4)\n",
            "(8, 7, 8)\n",
            "(8, 8, 0)\n",
            "(9, 0, 2)\n",
            "(9, 1, 5)\n",
            "(9, 2, 6)\n",
            "(9, 3, 4)\n",
            "(9, 4, 7)\n",
            "(9, 5, 0)\n",
            "(9, 6, 3)\n",
            "(9, 7, 1)\n",
            "(9, 8, 8)\n"
          ]
        }
      ],
      "source": [
        "for l in ps:\n",
        "    if l > 0 and decode_variable(l) is not None:\n",
        "        print(decode_variable(l))\n"
      ]
    },
    {
      "cell_type": "markdown",
      "metadata": {
        "deletable": false,
        "editable": false,
        "nbgrader": {
          "grade": false,
          "grade_id": "cell-bc4f190c5dba9f7e",
          "locked": true,
          "schema_version": 3,
          "solution": false
        },
        "id": "y7RFYLG-2FTy"
      },
      "source": [
        "Aha! This looks very good! as you can see from the end, there are 9 tuples beginning with 9; these are exactly the location of the digits \"9\" in the Sudoku. \n",
        "Thus, the model of the SAT solver enables us to directly fill the Sudoku board.  We let you implement the `solve` method. "
      ]
    },
    {
      "cell_type": "code",
      "execution_count": 31,
      "metadata": {
        "deletable": false,
        "nbgrader": {
          "grade": false,
          "grade_id": "cell-253b68dd1f1b64c7",
          "locked": false,
          "schema_version": 3,
          "solution": true
        },
        "id": "AEQW4KIf2FTy"
      },
      "outputs": [],
      "source": [
        "def solve(self, Solver):\n",
        "    \"\"\"Solves the Sudoku instance using the given SAT solver\n",
        "    (e.g., Glucose3, Minisat22).\n",
        "    @param Solver: a solver, such as Glucose3, Minisat22.\n",
        "    @returns: False, if the Sudoku problem is not solvable, and True, if it is.\n",
        "        In the latter case, the solve method also completes self.board,\n",
        "        using the solution of SAT to complete the board.\"\"\"\n",
        "    # YOUR CODE HERE\n",
        "    with Solver() as g:\n",
        "      clauses = self._to_SAT()\n",
        "      for x in clauses:\n",
        "        g.add_clause(x)\n",
        "      if g.solve():\n",
        "        tem = g.solve()\n",
        "        fun = g.get_model()\n",
        "      for y in fun:\n",
        "        if y in range(100, 989):\n",
        "          d, i, j = decode_variable(y)\n",
        "          self.board[i][j] = d\n",
        "    return tem\n",
        "\n",
        "\n",
        "\n",
        "\n",
        "\n",
        "SudokuViaSAT.solve = solve\n"
      ]
    },
    {
      "cell_type": "markdown",
      "metadata": {
        "deletable": false,
        "editable": false,
        "nbgrader": {
          "grade": false,
          "grade_id": "cell-48d84065eec8a53e",
          "locked": true,
          "schema_version": 3,
          "solution": false
        },
        "id": "XcOuM0nB2FTy"
      },
      "source": [
        "Let's try solving a Sudoku end-to-end. "
      ]
    },
    {
      "cell_type": "code",
      "execution_count": 32,
      "metadata": {
        "deletable": false,
        "editable": false,
        "nbgrader": {
          "grade": false,
          "grade_id": "cell-2e0f815cdd7b25e1",
          "locked": true,
          "schema_version": 3,
          "solution": false
        },
        "id": "fEWeBqPu2FTy",
        "colab": {
          "base_uri": "https://localhost:8080/"
        },
        "outputId": "6c7fc319-35d7-4dc0-e941-1883cfe402ef"
      },
      "outputs": [
        {
          "output_type": "stream",
          "name": "stdout",
          "text": [
            "+---+---+---+\n",
            "|...|...|.61|\n",
            "|35.|...|...|\n",
            "|4..|.5.|...|\n",
            "+---+---+---+\n",
            "|.2.|...|8..|\n",
            "|...|6.1|...|\n",
            "|...|7..|...|\n",
            "+---+---+---+\n",
            "|...|.8.|2..|\n",
            "|6..|4..|...|\n",
            "|..7|...|.1.|\n",
            "+---+---+---+\n",
            "+---+---+---+\n",
            "|289|374|561|\n",
            "|351|869|724|\n",
            "|476|152|983|\n",
            "+---+---+---+\n",
            "|124|593|876|\n",
            "|738|621|495|\n",
            "|965|748|132|\n",
            "+---+---+---+\n",
            "|513|986|247|\n",
            "|692|417|358|\n",
            "|847|235|619|\n",
            "+---+---+---+\n"
          ]
        }
      ],
      "source": [
        "problem = \"000000061350000000400050000020000800000601000000700000000080200600400000007000010\"\n",
        "sd = SudokuViaSAT(problem)\n",
        "sd.show()\n",
        "sd.solve(Glucose3)\n",
        "sd.show()\n"
      ]
    },
    {
      "cell_type": "markdown",
      "metadata": {
        "deletable": false,
        "editable": false,
        "nbgrader": {
          "grade": false,
          "grade_id": "cell-3c3c59f78b36f34a",
          "locked": true,
          "schema_version": 3,
          "solution": false
        },
        "id": "o0o21Re72FTz"
      },
      "source": [
        "This is quite wonderful!  Let us write a check that a solved Sudoku satisfies all rules of Sudoku, and is equal to a given problem in the specified cells. "
      ]
    },
    {
      "cell_type": "code",
      "execution_count": 33,
      "metadata": {
        "deletable": false,
        "editable": false,
        "nbgrader": {
          "grade": false,
          "grade_id": "cell-90060ad1ad571fd8",
          "locked": true,
          "schema_version": 3,
          "solution": false
        },
        "id": "PygJFEcB2FTz"
      },
      "outputs": [],
      "source": [
        "def verify_solution(Solver, sudoku_string):\n",
        "    sd = SudokuViaSAT(sudoku_string)\n",
        "    sd.solve(Solver)\n",
        "    # Check that we leave alone the original assignment.\n",
        "    for i in range(9):\n",
        "        for j in range(9):\n",
        "            d = int(sudoku_string[i * 9 + j])\n",
        "            if d > 0:\n",
        "                assert sd.board[i, j] == d\n",
        "    # Check that there is a digit in every cell.\n",
        "    for i in range(9):\n",
        "        for j in range(9):\n",
        "            assert 1 <= sd.board[i, j] <= 9\n",
        "    # Check the exclusion rules of Sudoku.\n",
        "    for i in range(9):\n",
        "        for j in range(9):\n",
        "            # No repetition in row.\n",
        "            for ii in range(i + 1, 9):\n",
        "                assert sd.board[i, j] != sd.board[ii, j]\n",
        "            # No repetition in column.\n",
        "            for jj in range(j + 1, 9):\n",
        "                assert sd.board[i, j] != sd.board[i, jj]\n",
        "            # No repetition in block\n",
        "            ci, cj = i // 3, j // 3\n",
        "            for bi in range(2):\n",
        "                ii = ci * 3 + bi\n",
        "                for bj in range(2):\n",
        "                    jj = cj * 3 + bj\n",
        "                    if i != ii or j != jj:\n",
        "                        assert sd.board[i, j] != sd.board[ii, jj]\n"
      ]
    },
    {
      "cell_type": "code",
      "execution_count": 34,
      "metadata": {
        "deletable": false,
        "editable": false,
        "nbgrader": {
          "grade": false,
          "grade_id": "cell-2e4a5ae0d8f0b677",
          "locked": true,
          "schema_version": 3,
          "solution": false
        },
        "id": "8X2pwnd02FTz"
      },
      "outputs": [],
      "source": [
        "verify_solution(Glucose3, problem)\n"
      ]
    },
    {
      "cell_type": "markdown",
      "metadata": {
        "deletable": false,
        "editable": false,
        "nbgrader": {
          "grade": false,
          "grade_id": "cell-2a6020fbc57de9d3",
          "locked": true,
          "schema_version": 3,
          "solution": false
        },
        "id": "qeMo7NpY2FTz"
      },
      "source": [
        "Let's check that you get the first 100 puzzles right."
      ]
    },
    {
      "cell_type": "code",
      "execution_count": 35,
      "metadata": {
        "deletable": false,
        "editable": false,
        "nbgrader": {
          "grade": false,
          "grade_id": "cell-21be87a20beeeb39",
          "locked": true,
          "schema_version": 3,
          "solution": false
        },
        "id": "i0LTHddK2FTz"
      },
      "outputs": [],
      "source": [
        "import requests\n",
        "\n",
        "r = requests.get(\"https://raw.githubusercontent.com/shadaj/sudoku/master/sudoku17.txt\")\n",
        "puzzles = r.text.split()\n"
      ]
    },
    {
      "cell_type": "code",
      "execution_count": 36,
      "metadata": {
        "deletable": false,
        "editable": false,
        "nbgrader": {
          "grade": true,
          "grade_id": "cell-4bac1365e179adb3",
          "locked": true,
          "points": 10,
          "schema_version": 3,
          "solution": false
        },
        "id": "uGgwHFjR2FTz"
      },
      "outputs": [],
      "source": [
        "for problem in puzzles[:100]:\n",
        "    verify_solution(Glucose3, problem)\n",
        "\n"
      ]
    },
    {
      "cell_type": "markdown",
      "metadata": {
        "deletable": false,
        "editable": false,
        "nbgrader": {
          "grade": false,
          "grade_id": "cell-48b5eb16fb5d5558",
          "locked": true,
          "schema_version": 3,
          "solution": false
        },
        "id": "6VXg5fVk2FT0"
      },
      "source": [
        "## What is faster: custom solution, or solving via SAT? \n",
        "\n",
        "Let us compute the time it takes us to solve a problem with each solver."
      ]
    },
    {
      "cell_type": "code",
      "execution_count": 37,
      "metadata": {
        "deletable": false,
        "editable": false,
        "nbgrader": {
          "grade": false,
          "grade_id": "cell-31a3cfd960520f62",
          "locked": true,
          "schema_version": 3,
          "solution": false
        },
        "id": "3-BqIy9p2FT0"
      },
      "outputs": [],
      "source": [
        "import time\n",
        "\n",
        "def compute_performance(problem_idx):\n",
        "    for Solver in [Glucose3, Glucose4, Minisat22]:\n",
        "        t = time.time()\n",
        "        sd = SudokuViaSAT(puzzles[problem_idx])\n",
        "        sd.solve(Solver)\n",
        "        dt = time.time() - t\n",
        "        print(Solver.__name__, \":\", dt)\n"
      ]
    },
    {
      "cell_type": "markdown",
      "metadata": {
        "deletable": false,
        "editable": false,
        "nbgrader": {
          "grade": false,
          "grade_id": "cell-cc9178b1961dcdaf",
          "locked": true,
          "schema_version": 3,
          "solution": false
        },
        "id": "EKNHkRWF2FT0"
      },
      "source": [
        "Puzzle 6361 was taking 0.013 with our custom solver. "
      ]
    },
    {
      "cell_type": "code",
      "execution_count": 38,
      "metadata": {
        "deletable": false,
        "editable": false,
        "nbgrader": {
          "grade": false,
          "grade_id": "cell-ca136af2f97437d",
          "locked": true,
          "schema_version": 3,
          "solution": false
        },
        "id": "fWnwsHCJ2FT0",
        "colab": {
          "base_uri": "https://localhost:8080/"
        },
        "outputId": "48e5dc3a-4740-45e0-f1b4-67e148cf97e6"
      },
      "outputs": [
        {
          "output_type": "stream",
          "name": "stdout",
          "text": [
            "Glucose3 : 0.08858752250671387\n",
            "Glucose4 : 0.052828311920166016\n",
            "Minisat22 : 0.18772244453430176\n"
          ]
        }
      ],
      "source": [
        "compute_performance(6361)\n"
      ]
    },
    {
      "cell_type": "markdown",
      "metadata": {
        "deletable": false,
        "editable": false,
        "nbgrader": {
          "grade": false,
          "grade_id": "cell-a36003ccda55b3ca",
          "locked": true,
          "schema_version": 3,
          "solution": false
        },
        "id": "hrWqo-SB2FT0"
      },
      "source": [
        "Our custom solver does a little better. Let's try other hard problems.  Using our custom solver, we had: \n",
        "\n",
        "    Idx: 1258 d: 0.7234883308410645\n",
        "    Idx: 5302 d: 1.112680435180664\n",
        "    Idx: 10980 d: 1.6263811588287354\n",
        "    Idx: 25632 d: 1.7625515460968018\n",
        "    Idx: 48287 d: 2.2216758728027344\n",
        "\n",
        "Let us see how we do on these."
      ]
    },
    {
      "cell_type": "code",
      "execution_count": 39,
      "metadata": {
        "deletable": false,
        "editable": false,
        "nbgrader": {
          "grade": false,
          "grade_id": "cell-8cbc9590dc1a6144",
          "locked": true,
          "schema_version": 3,
          "solution": false
        },
        "id": "cRQqB4Bj2FT0",
        "colab": {
          "base_uri": "https://localhost:8080/"
        },
        "outputId": "720ad8fb-8be0-4290-ea1b-875b4ea97832"
      },
      "outputs": [
        {
          "output_type": "stream",
          "name": "stdout",
          "text": [
            "Glucose3 : 0.07457876205444336\n",
            "Glucose4 : 0.07126474380493164\n",
            "Minisat22 : 0.06648468971252441\n",
            "Glucose3 : 0.2136847972869873\n",
            "Glucose4 : 0.07246565818786621\n",
            "Minisat22 : 0.05705118179321289\n",
            "Glucose3 : 0.03707623481750488\n",
            "Glucose4 : 0.15027666091918945\n",
            "Minisat22 : 0.03687906265258789\n",
            "Glucose3 : 0.041016340255737305\n",
            "Glucose4 : 0.0397799015045166\n",
            "Minisat22 : 0.1370868682861328\n",
            "Glucose3 : 0.040257930755615234\n",
            "Glucose4 : 0.04167985916137695\n",
            "Minisat22 : 0.05220341682434082\n"
          ]
        }
      ],
      "source": [
        "compute_performance(1258)\n",
        "compute_performance(5302)\n",
        "compute_performance(10980)\n",
        "compute_performance(25632)\n",
        "compute_performance(48287)\n"
      ]
    },
    {
      "cell_type": "markdown",
      "metadata": {
        "deletable": false,
        "editable": false,
        "nbgrader": {
          "grade": false,
          "grade_id": "cell-ad21a1c63378bc45",
          "locked": true,
          "schema_version": 3,
          "solution": false
        },
        "id": "WR1Kgn6_2FT0"
      },
      "source": [
        "Ha! This is quite interesting. What our solver found hard, these SAT solvers find easy!  Let's see the worst case of Glucose4 on all the testset: "
      ]
    },
    {
      "cell_type": "code",
      "execution_count": 40,
      "metadata": {
        "deletable": false,
        "editable": false,
        "nbgrader": {
          "grade": false,
          "grade_id": "cell-dce54b8eb8b3ae7b",
          "locked": true,
          "schema_version": 3,
          "solution": false
        },
        "id": "sd6Q958p2FT0"
      },
      "outputs": [],
      "source": [
        "def compute_performance(Solver, num_problems):\n",
        "    max_time = 0\n",
        "    for idx, problem in enumerate(puzzles[:num_problems]):\n",
        "        t = time.time()\n",
        "        sd = SudokuViaSAT(problem)\n",
        "        sd.solve(Solver)\n",
        "        dt = time.time() - t\n",
        "        if dt > max_time:\n",
        "            print(idx, \":\", dt)\n",
        "            max_time = dt\n"
      ]
    },
    {
      "cell_type": "markdown",
      "metadata": {
        "deletable": false,
        "editable": false,
        "nbgrader": {
          "grade": false,
          "grade_id": "cell-1a63b09cf9483115",
          "locked": true,
          "schema_version": 3,
          "solution": false
        },
        "id": "wxUDiw0l2FT1"
      },
      "source": [
        "Let's try the first 1000:"
      ]
    },
    {
      "cell_type": "code",
      "execution_count": 42,
      "metadata": {
        "deletable": false,
        "editable": false,
        "nbgrader": {
          "grade": false,
          "grade_id": "cell-1670c4fe1f1f51a",
          "locked": true,
          "schema_version": 3,
          "solution": false
        },
        "id": "ZN9VG5pr2FT1",
        "colab": {
          "base_uri": "https://localhost:8080/"
        },
        "outputId": "7084ae9b-898f-4295-9915-bd021125e5ce"
      },
      "outputs": [
        {
          "output_type": "stream",
          "name": "stdout",
          "text": [
            "0 : 0.14150667190551758\n",
            "4 : 0.1486351490020752\n",
            "40 : 0.21108269691467285\n",
            "226 : 0.3637683391571045\n"
          ]
        }
      ],
      "source": [
        "compute_performance(Glucose4, 1000)\n"
      ]
    },
    {
      "cell_type": "markdown",
      "metadata": {
        "deletable": false,
        "editable": false,
        "nbgrader": {
          "grade": false,
          "grade_id": "cell-fc0a1c45625c44ff",
          "locked": true,
          "schema_version": 3,
          "solution": false
        },
        "id": "WDxAAuyz2FT1"
      },
      "source": [
        "If you experimented for a while, you would notice that solving Sudoku via SAT has a worse average-case behavior, but better worst-case behavior, than our custom solver. \n",
        "This is not bad at all for an approach that relies on an off-the-shelf rather than a custom solver. \n",
        "This helps illustrate the practical importance of efficient SAT solvers as tools that can be used to solve a wide range of search problems. "
      ]
    }
  ],
  "metadata": {
    "colab": {
      "provenance": []
    },
    "kernelspec": {
      "display_name": "Python 3",
      "language": "python",
      "name": "python3"
    },
    "language_info": {
      "codemirror_mode": {
        "name": "ipython",
        "version": 3
      },
      "file_extension": ".py",
      "mimetype": "text/x-python",
      "name": "python",
      "nbconvert_exporter": "python",
      "pygments_lexer": "ipython3",
      "version": "3.8.10"
    },
    "test_info": {
      "id": "b6f8ffe2d7979798f8944192b88c2f14bbc24bc1"
    }
  },
  "nbformat": 4,
  "nbformat_minor": 0
}